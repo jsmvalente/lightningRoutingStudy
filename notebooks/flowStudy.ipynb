{
 "cells": [
  {
   "cell_type": "markdown",
   "metadata": {},
   "source": [
    "## Flow study"
   ]
  },
  {
   "cell_type": "code",
   "execution_count": 1,
   "metadata": {},
   "outputs": [
    {
     "name": "stdout",
     "output_type": "stream",
     "text": [
      "Number of nodes: 1647\n",
      "Number of edges: 8508\n"
     ]
    }
   ],
   "source": [
    "import networkx as nx\n",
    "import numpy as np\n",
    "import time\n",
    "# Open adjencency list file and build the directed graph\n",
    "f=open(\"../lightningAdjList.txt\", 'rb')\n",
    "G=nx.read_multiline_adjlist(f, create_using=nx.Graph)\n",
    "f.close()\n",
    "\n",
    "print(\"Number of nodes: \" + str(G.number_of_nodes()))\n",
    "print(\"Number of edges: \" + str(G.number_of_edges()))\n",
    "\n",
    "# Read alias file and create a pub_key -> alias dic"
   ]
  },
  {
   "cell_type": "code",
   "execution_count": 2,
   "metadata": {},
   "outputs": [],
   "source": [
    "# Initialize the adjancency matrix\n",
    "def init_adjacency(G):\n",
    "    A = np.zeros((G.number_of_nodes(), G.number_of_nodes()))\n",
    "\n",
    "    nodes = list(G.nodes())\n",
    "\n",
    "    # Add all the edges to the adjancency matrix\n",
    "    for n in nodes:\n",
    "        for neigh in G.neighbors(n):\n",
    "            A[nodes.index(n)][nodes.index(neigh)] = 1\n",
    "    return A\n",
    "\n",
    "# Estimate the number of paths starting at one arbitrary node\n",
    "def estimate_number_paths_node(G, node, iterations=1000):\n",
    "    dist = {}\n",
    "\n",
    "    # Get a list of nodes\n",
    "    nodes = list(G.nodes())\n",
    "    \n",
    "    # Get our last vertex\n",
    "    n = nodes[-1]\n",
    "    \n",
    "    # Get our adj matrix reset mask\n",
    "    reset_A = init_adjacency(G)\n",
    "    \n",
    "    for it in range(iterations):\n",
    "        \n",
    "        # Get a clean adj matrix\n",
    "        A = np.zeros((G.number_of_nodes(), G.number_of_nodes())) + reset_A\n",
    "        \n",
    "        x_t = node\n",
    "        c = node\n",
    "        g = 1\n",
    "        t = 1\n",
    "\n",
    "        # Ensure path will not return to the first node\n",
    "        for i in range(len(A[x_t])):\n",
    "            A[i][node] = 0\n",
    "        \n",
    "        # Init the path starting from the first node\n",
    "        path = [x_t]\n",
    "        \n",
    "        \n",
    "        while(1):\n",
    "            # Build the neighbour list\n",
    "            V = []\n",
    "            for neigh in G.neighbors(nodes[x_t]):\n",
    "                if(not A[x_t][nodes.index(neigh)]):\n",
    "                    continue\n",
    "                V += [nodes.index(neigh)]\n",
    "\n",
    "            if(len(V) == 0):\n",
    "                break\n",
    "            \n",
    "            x_t1 = np.random.choice(V)\n",
    "\n",
    "            x_t = x_t1\n",
    "            c = x_t1\n",
    "            path += [x_t]\n",
    "            g = g/len(V)\n",
    "            \n",
    "            # Fix adj matrix so we don't come back to this node\n",
    "            for i in range(len(A[x_t1])):\n",
    "                A[i][x_t] = 0\n",
    "\n",
    "            # If we got to the last node of the set we break\n",
    "            if(c == n):\n",
    "                break\n",
    "        \n",
    "        \n",
    "\n",
    "        dist[tuple(path)] = g\n",
    "\n",
    "        \n",
    "    return dist"
   ]
  },
  {
   "cell_type": "code",
   "execution_count": 3,
   "metadata": {},
   "outputs": [
    {
     "name": "stdout",
     "output_type": "stream",
     "text": [
      "Execution took:  38.02425146102905\n"
     ]
    }
   ],
   "source": [
    "import time\n",
    "\n",
    "t = time.time()\n",
    "\n",
    "estimate_number_paths_node(G, 0, iterations=500)\n",
    "\n",
    "\n",
    "print(\"Execution took: \", time.time() - t)"
   ]
  },
  {
   "cell_type": "code",
   "execution_count": 4,
   "metadata": {},
   "outputs": [
    {
     "name": "stdout",
     "output_type": "stream",
     "text": [
      "Total time estimation is:  44469  seconds\n"
     ]
    }
   ],
   "source": [
    "print(\"Total time estimation is: \", G.number_of_nodes() * 27, \" seconds\")"
   ]
  },
  {
   "cell_type": "code",
   "execution_count": null,
   "metadata": {},
   "outputs": [],
   "source": []
  }
 ],
 "metadata": {
  "kernelspec": {
   "display_name": "Python 3",
   "language": "python",
   "name": "python3"
  },
  "language_info": {
   "codemirror_mode": {
    "name": "ipython",
    "version": 3
   },
   "file_extension": ".py",
   "mimetype": "text/x-python",
   "name": "python",
   "nbconvert_exporter": "python",
   "pygments_lexer": "ipython3",
   "version": "3.6.6"
  }
 },
 "nbformat": 4,
 "nbformat_minor": 2
}
