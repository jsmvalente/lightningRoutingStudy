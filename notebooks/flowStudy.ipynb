{
 "cells": [
  {
   "cell_type": "markdown",
   "metadata": {},
   "source": [
    "## Flow study"
   ]
  },
  {
   "cell_type": "code",
   "execution_count": 1,
   "metadata": {},
   "outputs": [
    {
     "name": "stdout",
     "output_type": "stream",
     "text": [
      "Number of nodes: 1647\n",
      "Number of edges: 8508\n"
     ]
    }
   ],
   "source": [
    "import networkx as nx\n",
    "import numpy as np\n",
    "\n",
    "# Open adjencency list file and build the directed graph\n",
    "f=open(\"../lightningAdjList.txt\", 'rb')\n",
    "G=nx.read_multiline_adjlist(f, create_using=nx.Graph)\n",
    "f.close()\n",
    "\n",
    "print(\"Number of nodes: \" + str(G.number_of_nodes()))\n",
    "print(\"Number of edges: \" + str(G.number_of_edges()))\n",
    "\n",
    "# Read alias file and create a pub_key -> alias dic"
   ]
  },
  {
   "cell_type": "code",
   "execution_count": 18,
   "metadata": {},
   "outputs": [],
   "source": [
    "#initialize Adjacency matrix\n",
    "def init_adjacency():\n",
    "    A = np.zeros((G.number_of_nodes(), G.number_of_nodes()))\n",
    "\n",
    "    edges = nx.adjacency_matrix(G)\n",
    "\n",
    "    nodes = list(G.nodes())\n",
    "\n",
    "\n",
    "    for n in nodes:\n",
    "        for neigh in G.neighbors(n):\n",
    "            A[nodes.index(n)][nodes.index(neigh)] = 1\n",
    "    return A\n",
    "\n",
    "A = init_adjacency()"
   ]
  },
  {
   "cell_type": "code",
   "execution_count": null,
   "metadata": {},
   "outputs": [],
   "source": []
  },
  {
   "cell_type": "code",
   "execution_count": null,
   "metadata": {},
   "outputs": [],
   "source": [
    "paths = []\n",
    "dist = {}\n",
    "for it in range(100):\n",
    "    A = init_adjacency()\n",
    "    \n",
    "    x_t = 0\n",
    "    c = 0\n",
    "    g = 1\n",
    "    t = 1\n",
    "\n",
    "    V = []\n",
    "    for neigh in G.neighbors(nodes[x_t]):\n",
    "        V += [nodes.index(neigh)]\n",
    "\n",
    "    n = len(V)\n",
    "\n",
    "\n",
    "\n",
    "\n",
    "    for i in range(len(A[x_t])):\n",
    "        A[i][0] = 0\n",
    "    \n",
    "    path = [x_t]\n",
    "\n",
    "    while(1):\n",
    "        if(not x_t == 0):\n",
    "            V = []\n",
    "            for neigh in G.neighbors(nodes[x_t]):\n",
    "                if(not A[x_t][nodes.index(neigh)]):\n",
    "                    continue\n",
    "                V += [nodes.index(neigh)]\n",
    "\n",
    "        if(len(V) == 0):\n",
    "            break\n",
    "\n",
    "        x_t1 = np.random.choice(V)\n",
    "\n",
    "        x_t = x_t1\n",
    "        c = x_t1\n",
    "        path += [x_t]\n",
    "        g = g/len(V)\n",
    "        for i in range(len(A[x_t1])):\n",
    "            A[i][x_t] = 0\n",
    "\n",
    "        t = t + 1\n",
    "\n",
    "        if(c == n):\n",
    "            break\n",
    "\n",
    "    \n",
    "    paths += [path]\n",
    "    dist[tuple(path)] = g\n",
    "\n",
    "    \n",
    "print(dist)"
   ]
  },
  {
   "cell_type": "code",
   "execution_count": null,
   "metadata": {},
   "outputs": [],
   "source": []
  },
  {
   "cell_type": "code",
   "execution_count": null,
   "metadata": {},
   "outputs": [],
   "source": []
  }
 ],
 "metadata": {
  "kernelspec": {
   "display_name": "Python 3",
   "language": "python",
   "name": "python3"
  },
  "language_info": {
   "codemirror_mode": {
    "name": "ipython",
    "version": 3
   },
   "file_extension": ".py",
   "mimetype": "text/x-python",
   "name": "python",
   "nbconvert_exporter": "python",
   "pygments_lexer": "ipython3",
   "version": "3.6.6"
  }
 },
 "nbformat": 4,
 "nbformat_minor": 2
}
