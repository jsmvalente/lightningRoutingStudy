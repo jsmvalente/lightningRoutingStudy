{
 "cells": [
  {
   "cell_type": "code",
   "execution_count": 1,
   "metadata": {},
   "outputs": [
    {
     "name": "stdout",
     "output_type": "stream",
     "text": [
      "Number of nodes in old graph: 1642\n",
      "Number of edges in old graph: 8506\n",
      "Number of nodes in new graph: 1877\n",
      "Number of edges in new graph: 12386\n"
     ]
    }
   ],
   "source": [
    "import networkx as nx\n",
    "import numpy as np\n",
    "import time\n",
    "# Open adjencency list file and build the undirected graph\n",
    "f=open(\"../lightningAdjList_26Out.txt\", 'rb')\n",
    "G_old=nx.read_multiline_adjlist(f)\n",
    "f.close()\n",
    "f=open(\"../lightningAdjList_26Nov.txt\", 'rb')\n",
    "G_new=nx.read_multiline_adjlist(f)\n",
    "f.close()\n",
    "\n",
    "# Clean graphs from smallest components\n",
    "G_old = max(nx.connected_component_subgraphs(G_old), key=len)\n",
    "G_new = max(nx.connected_component_subgraphs(G_new), key=len)\n",
    "\n",
    "print(\"Number of nodes in old graph: \" + str(G_old.number_of_nodes()))\n",
    "print(\"Number of edges in old graph: \" + str(G_old.number_of_edges()))\n",
    "print(\"Number of nodes in new graph: \" + str(G_new.number_of_nodes()))\n",
    "print(\"Number of edges in new graph: \" + str(G_new.number_of_edges()))\n",
    "\n",
    "# Read alias file and create a pub_key -> alias dic"
   ]
  },
  {
   "cell_type": "markdown",
   "metadata": {},
   "source": [
    "### Compute the average shortest path length"
   ]
  },
  {
   "cell_type": "code",
   "execution_count": 2,
   "metadata": {},
   "outputs": [
    {
     "name": "stdout",
     "output_type": "stream",
     "text": [
      "Old Average shortest path length: 2.8951064418846832\n",
      "New Average shortest path length: 2.8694566591655466\n"
     ]
    }
   ],
   "source": [
    "print(\"Old Average shortest path length: \" + str(nx.average_shortest_path_length(G_old)))\n",
    "print(\"New Average shortest path length: \" + str(nx.average_shortest_path_length(G_new)))"
   ]
  },
  {
   "cell_type": "code",
   "execution_count": 3,
   "metadata": {},
   "outputs": [],
   "source": [
    "# Get the all pairs shortest paths for the two graphs\n",
    "all_pairs_shortest_paths_list = []\n",
    "all_pairs_shortest_paths_list.append(dict(nx.all_pairs_shortest_path(G_old)))\n",
    "all_pairs_shortest_paths_list.append(dict(nx.all_pairs_shortest_path(G_new)))\n",
    "graphs_list = []\n",
    "graphs_list.append(G_old)\n",
    "graphs_list.append(G_new)"
   ]
  },
  {
   "cell_type": "code",
   "execution_count": 4,
   "metadata": {},
   "outputs": [],
   "source": [
    "# The bottleneck of a path\n",
    "minCap = 10**10\n",
    "\n",
    "# Capacity of the edge we are iteration in\n",
    "edgeCap = 0\n",
    "\n",
    "# List of lists of cumulative shortest path capacitties\n",
    "pathsWithCapacityList = []\n",
    "\n",
    "minCapacityList = []\n",
    "\n",
    "for index, pair_shortest_path in enumerate(all_pairs_shortest_paths_list):\n",
    "    \n",
    "    pathsWithCapacity = [0] * 100\n",
    "    minCapacity = []\n",
    "\n",
    "    # Iterate through all the shortest paths\n",
    "    for source, paths in pair_shortest_path.items():\n",
    "    \n",
    "        # Iterate through all the paths starting from one source\n",
    "        for target, path in paths.items():\n",
    "        \n",
    "            # Make sure we only consider paths to to other nodes\n",
    "            if len(path) > 1:\n",
    "                \n",
    "                # Reset threshold capacity\n",
    "                minCap = 10**10\n",
    "                # Iterate through edges of path and get threshold capacity\n",
    "                for nodeNumber in range(0, len(path) - 1):\n",
    "                    edgeCap = (graphs_list[index].get_edge_data(path[nodeNumber], path[nodeNumber + 1]))[\"capacity\"]\n",
    "                    if edgeCap < minCap:\n",
    "                        minCap = edgeCap\n",
    "    \n",
    "                # Save the threshold capacity\n",
    "                minCapacity.append(minCap)\n",
    "                \n",
    "                # Save threshold against predefined capacities\n",
    "                for i in range(0,100):\n",
    "                    if 10000*i < minCap:\n",
    "                        pathsWithCapacity[i]+=1\n",
    "                    \n",
    "    pathsWithCapacityList.append(pathsWithCapacity)\n",
    "    minCapacityList.append(minCapacity)"
   ]
  },
  {
   "cell_type": "code",
   "execution_count": 16,
   "metadata": {},
   "outputs": [
    {
     "name": "stdout",
     "output_type": "stream",
     "text": [
      "0\n",
      "0\n"
     ]
    }
   ],
   "source": [
    "import random\n",
    "\n",
    "flowsWithCapacityList = []\n",
    "\n",
    "for G in graphs_list:\n",
    "    \n",
    "     # Get the flow value between some random pairs of nodes and store it\n",
    "    nodes =  list(G.nodes())\n",
    "    maxFlows = []\n",
    "    numNodes = len(nodes)\n",
    "\n",
    "    for i in range (0, 100):\n",
    "    \n",
    "        #Get a random source and sink\n",
    "        randomResult = random.sample(range(0, numNodes - 1), 2)\n",
    "        source = nodes[randomResult[0]]\n",
    "        sink = nodes[randomResult[1]]\n",
    "    \n",
    "        # Make sure they are different\n",
    "        if(source != sink):\n",
    "            flow_value = nx.maximum_flow_value(G, source, sink)\n",
    "            maxFlows.append(flow_value)\n",
    "        \n",
    "        if i % 100 == 0:\n",
    "            print(i)\n",
    "        \n",
    "    # Sort flow values from smallest to largest\n",
    "    maxFlows.sort(reverse=True)\n",
    "\n",
    "    flowsWithCapacity = [0] * 100\n",
    "\n",
    "    # Get a cumulative flowsWithCapacity list so we can plot the graph\n",
    "    for i in range(0,100):\n",
    "        for maxFlow in maxFlows:\n",
    "            if 10000*i < maxFlow:\n",
    "                flowsWithCapacity[i]+=1\n",
    "            else:\n",
    "                break\n",
    "    \n",
    "    flowsWithCapacityList.append(flowsWithCapacity)"
   ]
  },
  {
   "cell_type": "code",
   "execution_count": 17,
   "metadata": {},
   "outputs": [
    {
     "data": {
      "image/png": "[encoded data removed]",
      "text/plain": [
       "<Figure size 432x288 with 1 Axes>"
      ]
     },
     "metadata": {
      "needs_background": "light"
     },
     "output_type": "display_data"
    }
   ],
   "source": [
    "import matplotlib.pyplot as plt\n",
    "\n",
    "paymentProbPath = []\n",
    "paymentSizePath = []\n",
    "paymentProbFlow = []\n",
    "paymentSizeFlow = []\n",
    "\n",
    "for i, pathsWithCapacity in enumerate(pathsWithCapacityList):\n",
    "\n",
    "    # Graph with Probability of payment success as a function of payments size (€)\n",
    "    totalPaths = pathsWithCapacity[0]\n",
    "    paymentProbPath.append([(i/totalPaths)*100 for i in pathsWithCapacity])\n",
    "    paymentSizePath.append([(10000*i)*0.00003920 for i in range(0,100)])\n",
    "\n",
    "    if i == 0:\n",
    "        plt.plot(paymentSizePath[i], paymentProbPath[i], 'b', label=\"October - Shortest Path\")\n",
    "    elif i == 1:\n",
    "        plt.plot(paymentSizePath[i], paymentProbPath[i], 'r', label=\"November - Shortest Path\")\n",
    "        \n",
    "for i, flowsWithCapacity in enumerate(flowsWithCapacityList):\n",
    "    \n",
    "    # Graph with Probability of payment success as a function of payments size (satoshis)\n",
    "    totalFlows = flowsWithCapacity[0]\n",
    "    paymentProbFlow.append([(i/totalFlows)*100 for i in flowsWithCapacity])\n",
    "    paymentSizeFlow.append([(10000*i)*0.00003920 for i in range(0,100)])\n",
    "\n",
    "    if i == 0:\n",
    "        plt.plot(paymentSizeFlow[i], paymentProbFlow[i], 'b', linestyle='--', label=\"October - Maximum Flow\")\n",
    "    if i == 1:\n",
    "        plt.plot(paymentSizeFlow[i], paymentProbFlow[i], 'r', linestyle='--', label=\"November - Maximum Flow\")\n",
    "\n",
    "plt.title(\"LN Payment Success (October 2018 vs November 2018)\")\n",
    "plt.ylabel(\"Probability Of Payment Success\")\n",
    "plt.xlabel(\"Payment Size (€)\")\n",
    "\n",
    "plt.legend()\n",
    "plt.show()"
   ]
  },
  {
   "cell_type": "code",
   "execution_count": 18,
   "metadata": {},
   "outputs": [
    {
     "name": "stdout",
     "output_type": "stream",
     "text": [
      "Old Used capacity = 37.151614214593415%\n",
      "New Used capacity = 34.51525898346953%\n"
     ]
    }
   ],
   "source": [
    "old_used_capacity = sum(paymentProbPath[0])/sum(paymentProbFlow[0])\n",
    "new_used_capacity = sum(paymentProbPath[1])/sum(paymentProbFlow[1])\n",
    "\n",
    "print(\"Old Used capacity = \" + str(old_used_capacity*100) + \"%\")\n",
    "print(\"New Used capacity = \" + str(new_used_capacity*100) + \"%\")"
   ]
  },
  {
   "cell_type": "markdown",
   "metadata": {},
   "source": [
    "### Shortest paths average threshold capacity"
   ]
  },
  {
   "cell_type": "code",
   "execution_count": null,
   "metadata": {},
   "outputs": [],
   "source": [
    "import statistics\n",
    "import math\n",
    "\n",
    "oldMean = (statistics.mean(minCapacityList[0]))*0.00003920\n",
    "oldStandardDeviation = math.sqrt(statistics.variance([c * 0.00003920 for c in minCapacityList[0]]))\n",
    "newMean = (statistics.mean(minCapacityList[1]))*0.00003920\n",
    "newStandardDeviation = math.sqrt(statistics.variance([c * 0.00003920 for c in minCapacityList[1]]))\n",
    "\n",
    "print(\"Old average/variance threshold capacity:\" + str(oldMean) + \"/\" + str(oldStandardDeviation))\n",
    "print(\"New average/variance threshold capacity:\" + str(newMean) + \"/\" + str(newStandardDeviation))"
   ]
  }
 ],
 "metadata": {
  "kernelspec": {
   "display_name": "Python 3",
   "language": "python",
   "name": "python3"
  },
  "language_info": {
   "codemirror_mode": {
    "name": "ipython",
    "version": 3
   },
   "file_extension": ".py",
   "mimetype": "text/x-python",
   "name": "python",
   "nbconvert_exporter": "python",
   "pygments_lexer": "ipython3",
   "version": "3.8.5"
  }
 },
 "nbformat": 4,
 "nbformat_minor": 2
}
