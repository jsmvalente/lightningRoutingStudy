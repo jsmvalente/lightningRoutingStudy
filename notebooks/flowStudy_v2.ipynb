{
 "cells": [
  {
   "cell_type": "markdown",
   "metadata": {},
   "source": [
    "## Flow study"
   ]
  },
  {
   "cell_type": "markdown",
   "metadata": {},
   "source": [
    "### With shortest path"
   ]
  },
  {
   "cell_type": "code",
   "execution_count": 1,
   "metadata": {},
   "outputs": [
    {
     "name": "stdout",
     "output_type": "stream",
     "text": [
      "Number of nodes: 1642\n",
      "Number of edges: 8506\n"
     ]
    }
   ],
   "source": [
    "import networkx as nx\n",
    "import numpy as np\n",
    "import time\n",
    "# Open adjencency list file and build the undirected graph\n",
    "f=open(\"../lightningAdjList_26Out.txt\", 'rb')\n",
    "G=nx.read_multiline_adjlist(f)\n",
    "f.close()\n",
    "\n",
    "# Clean graph from smallest components\n",
    "G = max(nx.connected_component_subgraphs(G), key=len)\n",
    "\n",
    "print(\"Number of nodes: \" + str(G.number_of_nodes()))\n",
    "print(\"Number of edges: \" + str(G.number_of_edges()))\n",
    "\n",
    "# Read alias file and create a pub_key -> alias dic"
   ]
  },
  {
   "cell_type": "code",
   "execution_count": 2,
   "metadata": {},
   "outputs": [],
   "source": [
    "# Get the shortest path between all nodes\n",
    "shortest_paths = dict(nx.all_pairs_shortest_path(G))\n",
    "\n",
    "# The bottleneck of a path\n",
    "minCap = 10**10\n",
    "\n",
    "# Capacity of the edge we are iteration in\n",
    "edgeCap = 0\n",
    "\n",
    "# Total number of paths\n",
    "totalPaths = 0\n",
    "pathsWithCapacity = [0] * 100\n",
    "\n",
    "# Iterate through all the shortest paths\n",
    "for source, paths in shortest_paths.items():\n",
    "    \n",
    "    # Iterate through all the paths starting from one source\n",
    "    for target, path in paths.items():\n",
    "        \n",
    "        # Reset threshold capacity\n",
    "        minCap = 10**10\n",
    "        \n",
    "        # Make sure we only consider paths to other nodes\n",
    "        if len(path) > 1:\n",
    "        \n",
    "            # Iterate through edges of path and get threshold capacity\n",
    "            for nodeNumber in range(0, len(path) - 1):\n",
    "            \n",
    "                edgeCap = (G.get_edge_data(path[nodeNumber], path[nodeNumber + 1]))[\"capacity\"]\n",
    "                if edgeCap < minCap:\n",
    "                    minCap = edgeCap\n",
    "    \n",
    "            # Save threshold against predefined capacities\n",
    "            for i in range(0,100):\n",
    "                if 10000*i < minCap:\n",
    "                    pathsWithCapacity[i]+=1"
   ]
  },
  {
   "cell_type": "code",
   "execution_count": 3,
   "metadata": {},
   "outputs": [
    {
     "data": {
      "text/plain": [
       "<Figure size 640x480 with 1 Axes>"
      ]
     },
     "metadata": {},
     "output_type": "display_data"
    },
    {
     "data": {
      "text/plain": [
       "<Figure size 640x480 with 1 Axes>"
      ]
     },
     "metadata": {},
     "output_type": "display_data"
    }
   ],
   "source": [
    "import matplotlib.pyplot as plt\n",
    "\n",
    "# Graph with Probability of payment success as a function of payments size (satoshis)\n",
    "totalPaths = pathsWithCapacity[0]\n",
    "paymentProbPath = [(i/totalPaths)*100 for i in pathsWithCapacity]\n",
    "paymentSizePath = [10000*i for i in range(0,100)]\n",
    "\n",
    "plt.plot(paymentSizePath, paymentProbPath, 'b')\n",
    "plt.title(\"LN Shortest Path Payment Success\")\n",
    "plt.ylabel(\"Probability Of Payment Success\")\n",
    "plt.xlabel(\"Payment Size (Sats)\")\n",
    "\n",
    "plt.show()\n",
    "\n",
    "# Graph with Probability of payment success as a function of payments size (€)\n",
    "totalPaths = pathsWithCapacity[0]\n",
    "paymentProbPath = [(i/totalPaths)*100 for i in pathsWithCapacity]\n",
    "paymentSizePath = [(10000*i)*0.00003920 for i in range(0,100)]\n",
    "\n",
    "plt.plot(paymentSizePath, paymentProbPath, 'b')\n",
    "plt.title(\"LN Shortest Path Payment Success\")\n",
    "plt.ylabel(\"Probability Of Payment Success\")\n",
    "plt.xlabel(\"Payment Size (€)\")\n",
    "\n",
    "plt.show()"
   ]
  },
  {
   "cell_type": "markdown",
   "metadata": {},
   "source": [
    "### With maximum flow "
   ]
  },
  {
   "cell_type": "code",
   "execution_count": 4,
   "metadata": {},
   "outputs": [
    {
     "name": "stdout",
     "output_type": "stream",
     "text": [
      "0\n"
     ]
    }
   ],
   "source": [
    "import random\n",
    "\n",
    "# Get the flow value between some random pairs of nodes and store it\n",
    "nodes =  list(G.nodes())\n",
    "maxFlows = []\n",
    "numNodes = len(nodes)\n",
    "\n",
    "for i in range (0, 100):\n",
    "    \n",
    "    #Get a random source and sink\n",
    "    randomResult = random.sample(range(0, numNodes - 1), 2)\n",
    "    source = nodes[randomResult[0]]\n",
    "    sink = nodes[randomResult[1]]\n",
    "    \n",
    "    # Make sure they are different\n",
    "    if(source != sink):\n",
    "        flow_value = nx.maximum_flow_value(G, source, sink)\n",
    "        maxFlows.append(flow_value)\n",
    "        \n",
    "    if i % 100 == 0:\n",
    "        print(i)\n",
    "        \n",
    "# Sort flow values from smallest to largest\n",
    "maxFlows.sort(reverse=True)"
   ]
  },
  {
   "cell_type": "code",
   "execution_count": 5,
   "metadata": {},
   "outputs": [],
   "source": [
    "flowsWithCapacity = [0] * 100\n",
    "\n",
    "# Get a cumulative flowsWithCapacity list so we can plot the graph\n",
    "for i in range(0,100):\n",
    "    for maxFlow in maxFlows:\n",
    "        if 10000*i < maxFlow:\n",
    "            flowsWithCapacity[i]+=1\n",
    "        else:\n",
    "            break"
   ]
  },
  {
   "cell_type": "code",
   "execution_count": 16,
   "metadata": {},
   "outputs": [
    {
     "data": {
      "image/png": "[encoded data removed]",
      "text/plain": [
       "<Figure size 432x288 with 1 Axes>"
      ]
     },
     "metadata": {
      "needs_background": "light"
     },
     "output_type": "display_data"
    },
    {
     "data": {
      "image/png": "[encoded data removed]",
      "text/plain": [
       "<Figure size 432x288 with 1 Axes>"
      ]
     },
     "metadata": {
      "needs_background": "light"
     },
     "output_type": "display_data"
    }
   ],
   "source": [
    "import matplotlib.pyplot as plt\n",
    "\n",
    "# Graph with Probability of payment success as a function of payments size (satoshis)\n",
    "totalFlows = flowsWithCapacity[0]\n",
    "paymentProbFlow = [(i/totalFlows)*100 for i in flowsWithCapacity]\n",
    "paymentSizeFlow = [10000*i for i in range(0,100)]\n",
    "\n",
    "plt.plot(paymentSizeFlow, paymentProbFlow, 'b')\n",
    "plt.title(\"LN Biggest Flow Payment Success\")\n",
    "plt.ylabel(\"Probability Of Payment Success\")\n",
    "plt.xlabel(\"Payment Size (Sats)\")\n",
    "\n",
    "plt.show()\n",
    "\n",
    "# Graph with Probability of payment success as a function of payments size (€)\n",
    "totalFlows = flowsWithCapacity[0]\n",
    "paymentProbFlow = [(i/totalFlows)*100 for i in flowsWithCapacity]\n",
    "paymentSizeFlow = [(10000*i)*0.00003920 for i in range(0,100)]\n",
    "\n",
    "plt.plot(paymentSizeFlow, paymentProbFlow, 'b')\n",
    "plt.title(\"LN Biggest Flow Payment Success\")\n",
    "plt.ylabel(\"Probability Of Payment Success\")\n",
    "plt.xlabel(\"Payment Size (€)\")\n",
    "\n",
    "plt.show()"
   ]
  },
  {
   "cell_type": "markdown",
   "metadata": {},
   "source": [
    "## Comparison"
   ]
  },
  {
   "cell_type": "code",
   "execution_count": 15,
   "metadata": {
    "scrolled": true
   },
   "outputs": [
    {
     "data": {
      "image/png": "[encoded data removed]",
      "text/plain": [
       "<Figure size 432x288 with 1 Axes>"
      ]
     },
     "metadata": {
      "needs_background": "light"
     },
     "output_type": "display_data"
    }
   ],
   "source": [
    "#Compare the two graphs\n",
    "\n",
    "plt.title(\"LN Payment Success\")\n",
    "plt.ylabel(\"Probability Of Payment Success\")\n",
    "plt.xlabel(\"Payment Size (€)\")\n",
    "\n",
    "plt.plot(paymentSizeFlow, paymentProbFlow, 'b', linestyle='--', label=\"Biggest Flow\")\n",
    "plt.plot(paymentSizePath, paymentProbPath, 'b', label=\"Shortest Path\")\n",
    "plt.legend()\n",
    "plt.show()"
   ]
  }
 ],
 "metadata": {
  "kernelspec": {
   "display_name": "Python 3",
   "language": "python",
   "name": "python3"
  },
  "language_info": {
   "codemirror_mode": {
    "name": "ipython",
    "version": 3
   },
   "file_extension": ".py",
   "mimetype": "text/x-python",
   "name": "python",
   "nbconvert_exporter": "python",
   "pygments_lexer": "ipython3",
   "version": "3.6.7"
  }
 },
 "nbformat": 4,
 "nbformat_minor": 2
}
