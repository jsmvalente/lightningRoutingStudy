{
 "cells": [
  {
   "cell_type": "markdown",
   "metadata": {},
   "source": [
    "## Degree study"
   ]
  },
  {
   "cell_type": "code",
   "execution_count": 1,
   "metadata": {},
   "outputs": [
    {
     "name": "stdout",
     "output_type": "stream",
     "text": [
      "Number of nodes: 1642\n",
      "Number of edges: 8506\n",
      "381\n"
     ]
    }
   ],
   "source": [
    "import networkx as nx\n",
    "\n",
    "# Open adjencency list file and build the directed graph\n",
    "f=open(\"../lightningAdjList_26Out.txt\", 'rb')\n",
    "G=nx.read_multiline_adjlist(f)\n",
    "f.close()\n",
    "\n",
    "# Clean graph from smallest components\n",
    "G = max(nx.connected_component_subgraphs(G), key=len)\n",
    "\n",
    "print(\"Number of nodes: \" + str(G.number_of_nodes()))\n",
    "print(\"Number of edges: \" + str(G.number_of_edges()))\n",
    "print(G.degree(\"02ad6fb8d693dc1e4569bcedefadf5f72a931ae027dc0f0c544b34c1c6f3b9a02b\"))\n",
    "\n",
    "# Read alias file and create a pub_key -> alias dic\n",
    "aliasDic = {}\n",
    "f=open(\"../nodeAlias_26Out.txt\", 'r')\n",
    "\n",
    "lines = f.read().splitlines()\n",
    "\n",
    "for line in lines:\n",
    "    pub_key = line[:66]\n",
    "    alias = line[67:]\n",
    "    aliasDic[pub_key] = alias\n",
    "    \n",
    "f.close()"
   ]
  },
  {
   "cell_type": "markdown",
   "metadata": {},
   "source": [
    "### Compute average degree of the network"
   ]
  },
  {
   "cell_type": "code",
   "execution_count": 2,
   "metadata": {},
   "outputs": [
    {
     "name": "stdout",
     "output_type": "stream",
     "text": [
      "Average degree:  10.3605359317905\n"
     ]
    }
   ],
   "source": [
    "# Get list with degrees of each node\n",
    "degree_sequence = sorted([d for n, d in G.degree()], reverse=True)\n",
    "\n",
    "# Get the average degree\n",
    "average_degree = sum(degree_sequence)/len(degree_sequence)\n",
    "\n",
    "print(\"Average degree: \", average_degree)\n",
    "\n"
   ]
  },
  {
   "cell_type": "markdown",
   "metadata": {},
   "source": [
    "### Plot the degree distribution (unscaled)"
   ]
  },
  {
   "cell_type": "code",
   "execution_count": 3,
   "metadata": {},
   "outputs": [
    {
     "data": {
      "text/plain": [
       "<Figure size 640x480 with 1 Axes>"
      ]
     },
     "metadata": {},
     "output_type": "display_data"
    }
   ],
   "source": [
    "import matplotlib.pyplot as plt\n",
    "import collections\n",
    "\n",
    "# Dic with how much time each degree appeared\n",
    "degreeCount = collections.Counter(degree_sequence)\n",
    "\n",
    "# Separate dic into two separated tuples\n",
    "deg, cnt = zip(*degreeCount.items())\n",
    "cnt = list(cnt)\n",
    "\n",
    "# Normalize cnt in cnt_norm getting %\n",
    "total_sum = sum(cnt)\n",
    "cnt_norm = []\n",
    "for i in range(len(cnt)):\n",
    "    cnt_norm += [cnt[i]/total_sum]\n",
    "    \n",
    "    \n",
    "ax = plt.subplot()\n",
    "plt.bar(deg, cnt_norm, width=0.5, color='b', tick_label=[d for d in deg])\n",
    "plt.plot(deg, cnt_norm, linestyle='--')\n",
    "plt.title(\"Degree Distribution\")\n",
    "plt.ylabel(\"Probability P(k)\")\n",
    "plt.xlabel(\"Degree k\")\n",
    "\n",
    "plt.xticks([258])\n",
    "\n",
    "plt.show()\n"
   ]
  },
  {
   "cell_type": "markdown",
   "metadata": {},
   "source": [
    "### Compute the gamma value of the network"
   ]
  },
  {
   "cell_type": "code",
   "execution_count": 4,
   "metadata": {},
   "outputs": [
    {
     "name": "stdout",
     "output_type": "stream",
     "text": [
      "1642\n",
      "Gama value of network:  2.25982622428137\n"
     ]
    },
    {
     "name": "stderr",
     "output_type": "stream",
     "text": [
      "Calculating best minimal value for power law fit\n",
      "/home/joao/.local/lib/python3.6/site-packages/powerlaw.py:700: RuntimeWarning: invalid value encountered in true_divide\n",
      "  (Theoretical_CDF * (1 - Theoretical_CDF))\n"
     ]
    }
   ],
   "source": [
    "\n",
    "\n",
    "import powerlaw as pl\n",
    "        \n",
    "# Fits the parameters of the distribution to the data.\n",
    "fit = pl.Fit(degree_sequence)\n",
    "\n",
    "print(len(degree_sequence))\n",
    "\n",
    "print(\"Gama value of network: \", fit.alpha)\n",
    "\n"
   ]
  },
  {
   "cell_type": "markdown",
   "metadata": {},
   "source": [
    "We conclude it is a scale free "
   ]
  },
  {
   "cell_type": "markdown",
   "metadata": {},
   "source": [
    "### Plot the power law (log scaled)"
   ]
  },
  {
   "cell_type": "code",
   "execution_count": 5,
   "metadata": {},
   "outputs": [
    {
     "data": {
      "text/plain": [
       "Text(0.5, 0, 'Degree k')"
      ]
     },
     "execution_count": 5,
     "metadata": {},
     "output_type": "execute_result"
    },
    {
     "data": {
      "image/png": "[encoded data removed]",
      "text/plain": [
       "<Figure size 432x288 with 1 Axes>"
      ]
     },
     "metadata": {
      "needs_background": "light"
     },
     "output_type": "display_data"
    }
   ],
   "source": [
    "fig1 = fit.plot_ccdf(color = 'b', marker='o', linewidth= 2)\n",
    "fit.power_law.plot_ccdf(color='r', linestyle='--', ax=fig1)\n",
    "\n",
    "\n",
    "plt.title(\"Cumulative Degree Distribution\")\n",
    "plt.ylabel(\"P_cum(k)\")\n",
    "plt.xlabel(\"Degree k\")"
   ]
  },
  {
   "cell_type": "markdown",
   "metadata": {},
   "source": [
    "Not a mesh network as some people wished. More scale-free"
   ]
  },
  {
   "cell_type": "markdown",
   "metadata": {},
   "source": [
    "## Betweenness Centrality"
   ]
  },
  {
   "cell_type": "code",
   "execution_count": 6,
   "metadata": {},
   "outputs": [],
   "source": [
    "import operator\n",
    "\n",
    "# Get the betweenness centrality of all the nodes\n",
    "betweennessDic = nx.betweenness_centrality(G)\n",
    "# Get the sorted betweenness centrality\n",
    "sorted_betweenness = sorted(betweennessDic.items(), key=operator.itemgetter(1), reverse=True)\n",
    "# Only the best 10 will be considered\n",
    "sorted_betweenness = list(sorted_betweenness[0:10])\n",
    "# Get two lists, one with the addresses and one with the corresponding betweenness centrality measure\n",
    "addresses_bc, betweenness = zip(*sorted_betweenness)"
   ]
  },
  {
   "cell_type": "code",
   "execution_count": 7,
   "metadata": {},
   "outputs": [
    {
     "data": {
      "image/png": "[encoded data removed]",
      "text/plain": [
       "<Figure size 432x288 with 1 Axes>"
      ]
     },
     "metadata": {
      "needs_background": "light"
     },
     "output_type": "display_data"
    }
   ],
   "source": [
    "degrees_t10_bc = []\n",
    "\n",
    "for i in range(len(addresses_bc)):\n",
    "    degrees_t10_bc.append(G.degree(addresses_bc[i]))\n",
    "\n",
    "\n",
    "# Get alias instead of addresses\n",
    "alias = list(addresses_bc)\n",
    "for i, address in enumerate(alias):\n",
    "    alias[i] = aliasDic[address]\n",
    "\n",
    "plt.figure()\n",
    "plt.barh(range(len(betweenness)),betweenness)\n",
    "plt.yticks(range(len(addresses_bc)), alias)\n",
    "\n",
    "plt.show()"
   ]
  },
  {
   "cell_type": "code",
   "execution_count": 8,
   "metadata": {},
   "outputs": [
    {
     "data": {
      "image/png": "[encoded data removed]",
      "text/plain": [
       "<Figure size 432x288 with 1 Axes>"
      ]
     },
     "metadata": {
      "needs_background": "light"
     },
     "output_type": "display_data"
    }
   ],
   "source": [
    "plt.figure()\n",
    "plt.plot(degrees_t10_bc, betweenness, 'o')\n",
    "plt.show()"
   ]
  },
  {
   "cell_type": "markdown",
   "metadata": {},
   "source": [
    "We can see that for the top 10 nodes with the biggest betweenness centrality, there is a linearly proportional reason with the degree of the corresponding nodes. Below is a plot with for the top 100, to test that this is indeed true."
   ]
  },
  {
   "cell_type": "code",
   "execution_count": 9,
   "metadata": {},
   "outputs": [
    {
     "data": {
      "image/png": "[encoded data removed]",
      "text/plain": [
       "<Figure size 432x288 with 1 Axes>"
      ]
     },
     "metadata": {
      "needs_background": "light"
     },
     "output_type": "display_data"
    }
   ],
   "source": [
    "sorted_betweenness = sorted(betweennessDic.items(), key=operator.itemgetter(1), reverse=True)\n",
    "# Only the best 10 will be considered\n",
    "sorted_betweenness = list(sorted_betweenness[0:100])\n",
    "# Get two lists, one with the airport codes and one with the corresponding betweenness centrality measure\n",
    "addresses_bc, betweenness = zip(*sorted_betweenness)\n",
    "\n",
    "\n",
    "degrees_t10_bc = []\n",
    "\n",
    "for i in range(len(addresses_bc)):\n",
    "    degrees_t10_bc.append(G.degree(addresses_bc[i]))\n",
    "    \n",
    "    \n",
    "plt.figure()\n",
    "plt.plot(degrees_t10_bc, betweenness, 'o')\n",
    "plt.show()"
   ]
  }
 ],
 "metadata": {
  "kernelspec": {
   "display_name": "Python 3",
   "language": "python",
   "name": "python3"
  },
  "language_info": {
   "codemirror_mode": {
    "name": "ipython",
    "version": 3
   },
   "file_extension": ".py",
   "mimetype": "text/x-python",
   "name": "python",
   "nbconvert_exporter": "python",
   "pygments_lexer": "ipython3",
   "version": "3.6.7"
  }
 },
 "nbformat": 4,
 "nbformat_minor": 2
}
