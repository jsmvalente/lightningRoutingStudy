{
 "cells": [
  {
   "cell_type": "markdown",
   "metadata": {},
   "source": [
    "## Degree study"
   ]
  },
  {
   "cell_type": "code",
   "execution_count": 1,
   "metadata": {},
   "outputs": [
    {
     "name": "stdout",
     "output_type": "stream",
     "text": [
      "Number of nodes: 1647\n",
      "Number of edges: 17016\n"
     ]
    }
   ],
   "source": [
    "import networkx as nx\n",
    "\n",
    "# Open adjencency list file and build the directed graph\n",
    "f=open(\"lightningAdjList.txt\", 'rb')\n",
    "G=nx.read_multiline_adjlist(f, create_using=nx.DiGraph)\n",
    "f.close()\n",
    "\n",
    "print(\"Number of nodes: \" + str(G.number_of_nodes()))\n",
    "print(\"Number of edges: \" + str(G.number_of_edges()))\n",
    "\n",
    "# Read alias file and create a pub_key -> alias dic"
   ]
  },
  {
   "cell_type": "markdown",
   "metadata": {},
   "source": [
    "### Compute average degree of the network"
   ]
  },
  {
   "cell_type": "code",
   "execution_count": 4,
   "metadata": {},
   "outputs": [
    {
     "name": "stdout",
     "output_type": "stream",
     "text": [
      "Average degree:  20.663023679417122\n"
     ]
    }
   ],
   "source": [
    "\n",
    "\n",
    "\n",
    "\n",
    "\n",
    "# Get list with degrees of each node\n",
    "degree_sequence = sorted([d for n, d in G.degree()], reverse=True)\n",
    "\n",
    "# Get the average degree\n",
    "average_degree = sum(degree_sequence)/len(degree_sequence)\n",
    "\n",
    "print(\"Average degree: \", average_degree)\n",
    "\n"
   ]
  },
  {
   "cell_type": "markdown",
   "metadata": {},
   "source": [
    "### Plot the degree distribution (unscaled)"
   ]
  },
  {
   "cell_type": "code",
   "execution_count": 6,
   "metadata": {},
   "outputs": [
    {
     "data": {
      "image/png": "[encoded data removed]",
      "text/plain": [
       "<Figure size 432x288 with 1 Axes>"
      ]
     },
     "metadata": {
      "needs_background": "light"
     },
     "output_type": "display_data"
    }
   ],
   "source": [
    "import matplotlib.pyplot as plt\n",
    "import collections\n",
    "\n",
    "# Dic with how much time each degree appeared\n",
    "degreeCount = collections.Counter(degree_sequence)\n",
    "\n",
    "# Separate dic into two separated tuples\n",
    "deg, cnt = zip(*degreeCount.items())\n",
    "cnt = list(cnt)\n",
    "\n",
    "# Normalize cnt in cnt_norm getting %\n",
    "total_sum = sum(cnt)\n",
    "cnt_norm = []\n",
    "for i in range(len(cnt)):\n",
    "    cnt_norm += [cnt[i]/total_sum]\n",
    "    \n",
    "    \n",
    "ax = plt.subplot()\n",
    "plt.bar(deg, cnt_norm, width=0.5, color='b', tick_label=[d for d in deg])\n",
    "plt.plot(deg, cnt_norm, linestyle='--')\n",
    "plt.title(\"Degree Distribution\")\n",
    "plt.ylabel(\"Probability P(k)\")\n",
    "plt.xlabel(\"Degree k\")\n",
    "\n",
    "plt.xticks([258])\n",
    "\n",
    "plt.show()\n"
   ]
  },
  {
   "cell_type": "markdown",
   "metadata": {},
   "source": [
    "### Compute the gamma value of the network"
   ]
  },
  {
   "cell_type": "code",
   "execution_count": 7,
   "metadata": {},
   "outputs": [
    {
     "name": "stdout",
     "output_type": "stream",
     "text": [
      "Gama value of network:  2.25982622428137\n"
     ]
    },
    {
     "name": "stderr",
     "output_type": "stream",
     "text": [
      "Values less than or equal to 0 in data. Throwing out 0 or negative values\n",
      "Calculating best minimal value for power law fit\n",
      "/usr/local/lib/python3.6/dist-packages/powerlaw.py:700: RuntimeWarning: invalid value encountered in true_divide\n",
      "  (Theoretical_CDF * (1 - Theoretical_CDF))\n"
     ]
    }
   ],
   "source": [
    "\n",
    "\n",
    "import powerlaw as pl\n",
    "        \n",
    "# Fits the parameters of the distribution to the data.\n",
    "fit = pl.Fit(degree_sequence)\n",
    "\n",
    "print(\"Gama value of network: \", fit.alpha)\n",
    "\n"
   ]
  },
  {
   "cell_type": "markdown",
   "metadata": {},
   "source": [
    "We conclude it is a scale free "
   ]
  },
  {
   "cell_type": "markdown",
   "metadata": {},
   "source": [
    "### Plot the power law (log scaled)"
   ]
  },
  {
   "cell_type": "code",
   "execution_count": 8,
   "metadata": {},
   "outputs": [
    {
     "data": {
      "text/plain": [
       "Text(0.5, 0, 'Degree k')"
      ]
     },
     "execution_count": 8,
     "metadata": {},
     "output_type": "execute_result"
    },
    {
     "data": {
      "image/png": "[encoded data removed]",
      "text/plain": [
       "<Figure size 432x288 with 1 Axes>"
      ]
     },
     "metadata": {
      "needs_background": "light"
     },
     "output_type": "display_data"
    }
   ],
   "source": [
    "fig1 = fit.plot_ccdf(color = 'b', marker='o', linewidth= 2)\n",
    "fit.power_law.plot_ccdf(color='r', linestyle='--', ax=fig1)\n",
    "\n",
    "\n",
    "plt.title(\"Power Law of Degree Distribution\")\n",
    "plt.ylabel(\"P_cum(k)\")\n",
    "plt.xlabel(\"Degree k\")"
   ]
  },
  {
   "cell_type": "markdown",
   "metadata": {},
   "source": [
    "Not a mesh network as some people wished. More scale-free"
   ]
  },
  {
   "cell_type": "code",
   "execution_count": 10,
   "metadata": {},
   "outputs": [],
   "source": [
    "#probabillidade de um pagamento passar em funcao do tamanho da transacao"
   ]
  },
  {
   "cell_type": "code",
   "execution_count": null,
   "metadata": {},
   "outputs": [],
   "source": []
  }
 ],
 "metadata": {
  "kernelspec": {
   "display_name": "Python 3",
   "language": "python",
   "name": "python3"
  },
  "language_info": {
   "codemirror_mode": {
    "name": "ipython",
    "version": 3
   },
   "file_extension": ".py",
   "mimetype": "text/x-python",
   "name": "python",
   "nbconvert_exporter": "python",
   "pygments_lexer": "ipython3",
   "version": "3.6.6"
  }
 },
 "nbformat": 4,
 "nbformat_minor": 2
}
