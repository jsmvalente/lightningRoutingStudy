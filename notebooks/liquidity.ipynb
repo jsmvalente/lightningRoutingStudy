{
 "cells": [
  {
   "cell_type": "code",
   "execution_count": 1,
   "metadata": {},
   "outputs": [
    {
     "name": "stdout",
     "output_type": "stream",
     "text": [
      "Number of nodes: 1642\n",
      "Number of edges: 8506\n"
     ]
    }
   ],
   "source": [
    "import networkx as nx\n",
    "import numpy as np\n",
    "import time\n",
    "# Open adjencency list file and build the undirected graph\n",
    "f=open(\"../lightningAdjList_26Out.txt\", 'rb')\n",
    "G=nx.read_multiline_adjlist(f)\n",
    "f.close()\n",
    "\n",
    "# Clean graph from smallest components\n",
    "G = max(nx.connected_component_subgraphs(G), key=len)\n",
    "\n",
    "print(\"Number of nodes: \" + str(G.number_of_nodes()))\n",
    "print(\"Number of edges: \" + str(G.number_of_edges()))\n",
    "\n",
    "# Read alias file and create a pub_key -> alias dic"
   ]
  },
  {
   "cell_type": "markdown",
   "metadata": {},
   "source": [
    "### Compute the average shortest path length"
   ]
  },
  {
   "cell_type": "code",
   "execution_count": 2,
   "metadata": {},
   "outputs": [
    {
     "name": "stdout",
     "output_type": "stream",
     "text": [
      "Average shortest path length: 2.8951064418846832\n"
     ]
    }
   ],
   "source": [
    "print(\"Average shortest path length: \" + str(nx.average_shortest_path_length(G)))"
   ]
  },
  {
   "cell_type": "markdown",
   "metadata": {},
   "source": [
    "# Removing Hubs"
   ]
  },
  {
   "cell_type": "code",
   "execution_count": 3,
   "metadata": {},
   "outputs": [
    {
     "name": "stdout",
     "output_type": "stream",
     "text": [
      "1\n",
      "4.129980096901396\n",
      "1\n",
      "5.124599905714215\n",
      "1\n",
      "6.235991175543649\n"
     ]
    }
   ],
   "source": [
    "# Remove hubs until the graph is separated connected\n",
    "degree = list(G.degree())\n",
    "\n",
    "# Define a sorting function (by degree)\n",
    "def degSort(node):\n",
    "  return node[1]\n",
    "\n",
    "# Sort the nodes by degree\n",
    "degree.sort(reverse=True, key=degSort)\n",
    "\n",
    "# Get the just the node ID's\n",
    "nodes = [n for n, d in degree]\n",
    "\n",
    "# Get a virgin copy of the graph\n",
    "vG = G.copy()\n",
    "\n",
    "all_pairs_shortest_paths_list = []\n",
    "\n",
    "# Get the shortest path between all nodes in the biggest component\n",
    "all_pairs_shortest_paths_list.append(dict(nx.all_pairs_shortest_path(vG)))\n",
    "\n",
    "# Get the biggest components of the version of network without an increasing number of hubs \n",
    "for v in range(1,4):\n",
    "    # Remove 40*v nodes one by one (from the biggest to the smallest degree)\n",
    "    G = vG.copy()\n",
    "    finalComponents = []\n",
    "    for i in range(0, 40*v):\n",
    "        G.remove_node(nodes[i])\n",
    "    \n",
    "    for component in sorted(nx.connected_component_subgraphs(G), key=len, reverse=True):\n",
    "        # Only consider components that have more than 50 nodes\n",
    "        if component.number_of_nodes() > 50:\n",
    "            finalComponents.append(component)\n",
    "            \n",
    "    # Check how many components the network has left (we want 1 here)\n",
    "    print(len(finalComponents))\n",
    "\n",
    "    # Get the average shortest path length of the components left in the network\n",
    "    for c in finalComponents:\n",
    "        print(nx.average_shortest_path_length(c))\n",
    "        \n",
    "    # Get the all pairs shortest paths of the biggest component\n",
    "    all_pairs_shortest_paths_list.append(dict(nx.all_pairs_shortest_path(finalComponents[0])))"
   ]
  },
  {
   "cell_type": "code",
   "execution_count": 4,
   "metadata": {},
   "outputs": [],
   "source": [
    "# The bottleneck of a path\n",
    "minCap = 10**10\n",
    "\n",
    "# Capacity of the edge we are iteration in\n",
    "edgeCap = 0\n",
    "\n",
    "# List of lists of cumulative shortest path capacitties\n",
    "pathsWithCapacityList = []\n",
    "\n",
    "for pair_shortest_path in all_pairs_shortest_paths_list:\n",
    "    \n",
    "    pathsWithCapacity = [0] * 100\n",
    "\n",
    "    # Iterate through all the shortest paths\n",
    "    for source, paths in pair_shortest_path.items():\n",
    "    \n",
    "        # Iterate through all the paths starting from one source\n",
    "        for target, path in paths.items():\n",
    "        \n",
    "            # Reset threshold capacity\n",
    "            minCap = 10**10\n",
    "            \n",
    "            # Make sure we only consider paths to other nodes\n",
    "            if len(path) > 1:\n",
    "                \n",
    "                # Iterate through edges of path and get threshold capacity\n",
    "                for nodeNumber in range(0, len(path) - 1):\n",
    "            \n",
    "                    edgeCap = (vG.get_edge_data(path[nodeNumber], path[nodeNumber + 1]))[\"capacity\"]\n",
    "                    if edgeCap < minCap:\n",
    "                        minCap = edgeCap\n",
    "    \n",
    "                # Save threshold against predefined capacities\n",
    "                for i in range(0,100):\n",
    "                    if 10000*i < minCap:\n",
    "                        pathsWithCapacity[i]+=1\n",
    "                    \n",
    "    pathsWithCapacityList.append(pathsWithCapacity)"
   ]
  },
  {
   "cell_type": "code",
   "execution_count": 6,
   "metadata": {},
   "outputs": [
    {
     "data": {
      "image/png": "[encoded data removed]",
      "text/plain": [
       "<Figure size 432x288 with 1 Axes>"
      ]
     },
     "metadata": {
      "needs_background": "light"
     },
     "output_type": "display_data"
    }
   ],
   "source": [
    "import matplotlib.pyplot as plt\n",
    "\n",
    "for i, pathsWithCapacity in enumerate(pathsWithCapacityList):\n",
    "\n",
    "    # Graph with Probability of payment success as a function of payments size (€)\n",
    "    totalPaths = pathsWithCapacity[0]\n",
    "    paymentProbPath = [(i/totalPaths)*100 for i in pathsWithCapacity]\n",
    "    paymentSizePath = [(10000*i)*0.00003920 for i in range(0,100)]\n",
    "\n",
    "    if i == 0:\n",
    "        plt.plot(paymentSizePath, paymentProbPath, 'g', label=\"No nodes removed\")\n",
    "    elif i == 1:\n",
    "        plt.plot(paymentSizePath, paymentProbPath, 'r', label=\"Top 40 degree nodes removed\")\n",
    "    elif i == 2:\n",
    "        plt.plot(paymentSizePath, paymentProbPath, 'y', label=\"Top 80 degree nodes removed\")\n",
    "    elif i == 3:\n",
    "        plt.plot(paymentSizePath, paymentProbPath, 'b', label=\"Top 120 degree nodes removed\")\n",
    "\n",
    "\n",
    "plt.title(\"LN Shortest Path Payment Success\")\n",
    "plt.ylabel(\"Probability Of Payment Success\")\n",
    "plt.xlabel(\"Payment Size (€)\")\n",
    "\n",
    "plt.legend()\n",
    "plt.show()"
   ]
  },
  {
   "cell_type": "markdown",
   "metadata": {},
   "source": [
    "Meaning there's a lot of liquidity hiding in the hubs."
   ]
  }
 ],
 "metadata": {
  "kernelspec": {
   "display_name": "Python 3",
   "language": "python",
   "name": "python3"
  },
  "language_info": {
   "codemirror_mode": {
    "name": "ipython",
    "version": 3
   },
   "file_extension": ".py",
   "mimetype": "text/x-python",
   "name": "python",
   "nbconvert_exporter": "python",
   "pygments_lexer": "ipython3",
   "version": "3.6.7"
  }
 },
 "nbformat": 4,
 "nbformat_minor": 2
}
